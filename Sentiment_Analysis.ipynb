{
  "nbformat": 4,
  "nbformat_minor": 0,
  "metadata": {
    "colab": {
      "provenance": []
    },
    "kernelspec": {
      "name": "python3",
      "display_name": "Python 3"
    },
    "language_info": {
      "name": "python"
    }
  },
  "cells": [
    {
      "cell_type": "code",
      "source": [
        "import pandas as pd"
      ],
      "metadata": {
        "id": "mx53-2GrxA9l"
      },
      "execution_count": null,
      "outputs": []
    },
    {
      "cell_type": "code",
      "execution_count": null,
      "metadata": {
        "id": "0f0g9hEZwyAZ"
      },
      "outputs": [],
      "source": [
        "from google.colab import drive\n",
        "drive.mount('/content/drive')"
      ]
    },
    {
      "cell_type": "code",
      "source": [
        "#df = pd.read_csv(r\"/content/drive/MyDrive/dataset/sentiment_dataset.csv\")\n",
        "file_path = \"/content/drive/MyDrive/dataset/sentiment_dataset.csv\"\n",
        "\n",
        "# column names (since the file has no headers)\n",
        "columns = ['target', 'ids', 'date', 'flag', 'user', 'text']\n",
        "\n",
        "df = pd.read_csv(file_path, encoding='latin-1', names=columns)\n",
        "\n",
        "# drop the unnececary columns\n",
        "df = df[['text', 'target']]\n",
        "\n",
        "print(f\"Shape: {df.shape}\")\n",
        "df.head()"
      ],
      "metadata": {
        "id": "V5EZZIQuwzcT"
      },
      "execution_count": null,
      "outputs": []
    },
    {
      "cell_type": "code",
      "source": [
        "# define the english stopwords\n",
        "stop_words = set(stopwords.words('english'))"
      ],
      "metadata": {
        "id": "bgdlnzv9xAE8"
      },
      "execution_count": null,
      "outputs": []
    },
    {
      "cell_type": "code",
      "source": [
        "# function for cleaning up text (e.g. removing the @ tags from the tweets)\n",
        "def clean_text(text):\n",
        "    text = text.lower()\n",
        "    text = re.sub(r'http\\S+|www\\S+|https\\S+', '', text, flags=re.MULTILINE)\n",
        "    text = re.sub(r'\\@\\w+|\\#','', text)\n",
        "    text = text.translate(str.maketrans('', '', string.punctuation))\n",
        "    text = re.sub(r'\\d+', '', text)\n",
        "    text = re.sub(r'\\s+', ' ', text).strip()\n",
        "    tokens = text.split()\n",
        "    tokens = [word for word in tokens if word not in stop_words]\n",
        "    cleaned_text = ' '.join(tokens)\n",
        "    return cleaned_text"
      ],
      "metadata": {
        "id": "VCf4vmFMxFyb"
      },
      "execution_count": null,
      "outputs": []
    },
    {
      "cell_type": "code",
      "source": [
        "df['cleaned_text'] = df['text'].apply(clean_text)\n",
        "\n",
        "# convert targets: 0 -> 0 (negative), 4 -> 1 (positive)\n",
        "df['target'] = df['target'].apply(lambda x: 0 if x == 0 else 1)\n",
        "\n",
        "df[['cleaned_text', 'target']].head()"
      ],
      "metadata": {
        "id": "xkdw2R1PxGfd"
      },
      "execution_count": null,
      "outputs": []
    },
    {
      "cell_type": "markdown",
      "source": [
        "# GRU Model"
      ],
      "metadata": {
        "id": "0TIbfWA3xKQN"
      }
    },
    {
      "cell_type": "code",
      "source": [],
      "metadata": {
        "id": "8Xqsr9rbxLGK"
      },
      "execution_count": null,
      "outputs": []
    }
  ]
}